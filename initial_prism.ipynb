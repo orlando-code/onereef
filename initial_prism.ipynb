{
 "cells": [
  {
   "cell_type": "markdown",
   "metadata": {},
   "source": [
    "# Setup"
   ]
  },
  {
   "cell_type": "code",
   "execution_count": 25,
   "metadata": {},
   "outputs": [
    {
     "data": {
      "text/html": [
       "\n",
       "            <style>\n",
       "                .geemap-dark {\n",
       "                    --jp-widgets-color: white;\n",
       "                    --jp-widgets-label-color: white;\n",
       "                    --jp-ui-font-color1: white;\n",
       "                    --jp-layout-color2: #454545;\n",
       "                    background-color: #383838;\n",
       "                }\n",
       "\n",
       "                .geemap-dark .jupyter-button {\n",
       "                    --jp-layout-color3: #383838;\n",
       "                }\n",
       "\n",
       "                .geemap-colab {\n",
       "                    background-color: var(--colab-primary-surface-color, white);\n",
       "                }\n",
       "\n",
       "                .geemap-colab .jupyter-button {\n",
       "                    --jp-layout-color3: var(--colab-primary-surface-color, white);\n",
       "                }\n",
       "            </style>\n",
       "            "
      ],
      "text/plain": [
       "<IPython.core.display.HTML object>"
      ]
     },
     "metadata": {},
     "output_type": "display_data"
    },
    {
     "name": "stdout",
     "output_type": "stream",
     "text": [
      "The autoreload extension is already loaded. To reload it, use:\n",
      "  %reload_ext autoreload\n"
     ]
    }
   ],
   "source": [
    "%load_ext autoreload\n",
    "%autoreload 2\n",
    "\n",
    "# gee functions\n",
    "import ee\n",
    "import folium\n",
    "import geemap\n",
    "import gee_utils\n",
    "# Authenticate to Earth Engine\n",
    "ee.Authenticate()\n",
    "# Initialize Earth Engine instance\n",
    "ee.Initialize(project=\"reeftruth\")\n",
    "#!!! (for readme)\n",
    "# https://stackoverflow.com/questions/78374548/no-authentication-box-appears-when-authenticating-google-earth-engine-gee-pyth"
   ]
  },
  {
   "cell_type": "code",
   "execution_count": 3,
   "metadata": {},
   "outputs": [
    {
     "data": {
      "text/html": [
       "\n",
       "            <style>\n",
       "                .geemap-dark {\n",
       "                    --jp-widgets-color: white;\n",
       "                    --jp-widgets-label-color: white;\n",
       "                    --jp-ui-font-color1: white;\n",
       "                    --jp-layout-color2: #454545;\n",
       "                    background-color: #383838;\n",
       "                }\n",
       "\n",
       "                .geemap-dark .jupyter-button {\n",
       "                    --jp-layout-color3: #383838;\n",
       "                }\n",
       "\n",
       "                .geemap-colab {\n",
       "                    background-color: var(--colab-primary-surface-color, white);\n",
       "                }\n",
       "\n",
       "                .geemap-colab .jupyter-button {\n",
       "                    --jp-layout-color3: var(--colab-primary-surface-color, white);\n",
       "                }\n",
       "            </style>\n",
       "            "
      ],
      "text/plain": [
       "<IPython.core.display.HTML object>"
      ]
     },
     "metadata": {},
     "output_type": "display_data"
    }
   ],
   "source": [
    "# Add Earth Engine drawing method to folium.\n",
    "folium.Map.add_ee_layer = gee_utils.add_ee_layer"
   ]
  },
  {
   "cell_type": "markdown",
   "metadata": {},
   "source": [
    "# Vis params and AOIs"
   ]
  },
  {
   "cell_type": "code",
   "execution_count": 12,
   "metadata": {},
   "outputs": [
    {
     "data": {
      "text/html": [
       "\n",
       "            <style>\n",
       "                .geemap-dark {\n",
       "                    --jp-widgets-color: white;\n",
       "                    --jp-widgets-label-color: white;\n",
       "                    --jp-ui-font-color1: white;\n",
       "                    --jp-layout-color2: #454545;\n",
       "                    background-color: #383838;\n",
       "                }\n",
       "\n",
       "                .geemap-dark .jupyter-button {\n",
       "                    --jp-layout-color3: #383838;\n",
       "                }\n",
       "\n",
       "                .geemap-colab {\n",
       "                    background-color: var(--colab-primary-surface-color, white);\n",
       "                }\n",
       "\n",
       "                .geemap-colab .jupyter-button {\n",
       "                    --jp-layout-color3: var(--colab-primary-surface-color, white);\n",
       "                }\n",
       "            </style>\n",
       "            "
      ],
      "text/plain": [
       "<IPython.core.display.HTML object>"
      ]
     },
     "metadata": {},
     "output_type": "display_data"
    }
   ],
   "source": [
    "### Visualisation params\n",
    "# harmonized sentinel-2 bands\n",
    "sVisParams = {\n",
    "  \"min\": 0,\n",
    "  \"max\": 3000,\n",
    "  \"gamma\": 1.5,\n",
    "  \"bands\": [\"B4\", \"B3\", \"B2\"]\n",
    "}\n",
    "# Define the bands to be used\n",
    "sBands = [\"B2\", \"B3\", \"B4\", \"B5\", \"B6\", \"B7\", \"B8\", \"B8A\"]\n",
    "# PRSIM benthic classes\n",
    "prismVisParams = {\n",
    "  \"min\": 0,\n",
    "  \"max\": 1,\n",
    "  \"color\": [\"red\", \"green\", \"blue\"],\n",
    "};\n",
    "\n",
    "### AOI\n",
    "# Define bounds\n",
    "swains_bounds = [[151.9006776532874, -22.425424797331246],\n",
    "          [152.83451554391243, -22.425424797331246],\n",
    "          [152.83451554391243, -21.408761467649015],\n",
    "          [151.9006776532874, -21.408761467649015],\n",
    "          [151.9006776532874, -22.425424797331246]]\n",
    "swains_aoi = ee.Geometry.Polygon(swains_bounds)\n"
   ]
  },
  {
   "cell_type": "code",
   "execution_count": 55,
   "metadata": {},
   "outputs": [
    {
     "data": {
      "text/html": [
       "\n",
       "            <style>\n",
       "                .geemap-dark {\n",
       "                    --jp-widgets-color: white;\n",
       "                    --jp-widgets-label-color: white;\n",
       "                    --jp-ui-font-color1: white;\n",
       "                    --jp-layout-color2: #454545;\n",
       "                    background-color: #383838;\n",
       "                }\n",
       "\n",
       "                .geemap-dark .jupyter-button {\n",
       "                    --jp-layout-color3: #383838;\n",
       "                }\n",
       "\n",
       "                .geemap-colab {\n",
       "                    background-color: var(--colab-primary-surface-color, white);\n",
       "                }\n",
       "\n",
       "                .geemap-colab .jupyter-button {\n",
       "                    --jp-layout-color3: var(--colab-primary-surface-color, white);\n",
       "                }\n",
       "            </style>\n",
       "            "
      ],
      "text/plain": [
       "<IPython.core.display.HTML object>"
      ]
     },
     "metadata": {},
     "output_type": "display_data"
    }
   ],
   "source": [
    "import ee\n",
    "import geemap\n",
    "\n",
    "# set AOI\n",
    "aoi_geom = swains_aoi\n",
    "\n",
    "# Define the Sentinel-2 Image Collection and Cloud Collection\n",
    "sentinel_collection = ee.ImageCollection(\"COPERNICUS/S2_HARMONIZED\")\n",
    "sentinel_clouds = ee.ImageCollection(\"GOOGLE/CLOUD_SCORE_PLUS/V1/S2_HARMONIZED\")\n",
    "\n",
    "# Filter satellite timeseries for best image\n",
    "sentinel_colour = sentinel_collection.filterDate(\"2022-01-01\", \"2023-01-01\") \\\n",
    "    .filterBounds(aoiGeom)  \\\n",
    "    .linkCollection(sentinel_clouds, [\"cs_cdf\"]) \\\n",
    "    .map(lambda image: image.updateMask(image.select(\"cs_cdf\").gt(0.6)))\n",
    "\n",
    "composite = sentinel_colour.median()\n",
    "\n",
    "# Calculate NDWI to mask land\n",
    "ndwi = composite.expression(\n",
    "    '(GREEN - NIR) / (GREEN + NIR)',\n",
    "    {\n",
    "        'GREEN': composite.select('B3'),\n",
    "        'NIR': composite.select('B8')\n",
    "    }\n",
    ")\n",
    "\n",
    "# Sunglint correction and water mask\n",
    "water_image = composite.updateMask(ndwi.gt(0.1)).select(['B4', 'B3', 'B2']).subtract(composite.select('B8'))\n",
    "sunglint_correction = composite.select(['B4', 'B3', 'B2']).subtract(composite.select('B8'))\n",
    "\n",
    "# Add layers to the map\n",
    "Map = geemap.Map(height='1000px')\n",
    "Map.addLayer(water_image.clip(aoiGeom), sVisParams, 'satellite-derived land mask (NDWI)')\n",
    "Map.addLayer(composite.clip(aoiGeom), sVisParams, 'sentinel composite')\n",
    "Map.addLayer(sunglint_correction.clip(aoiGeom), sVisParams, 'top of water reflectance', False)\n",
    "\n",
    "# Uncomment below to use the RF-based mask\n",
    "# masked_img = gee_utils.landmask(composite.clip(aoiGeom))\n",
    "# Map.addLayer(masked_img, sVisParams, 'satellite-derived land mask (RF)', False)\n",
    "# Map"
   ]
  },
  {
   "cell_type": "code",
   "execution_count": 60,
   "metadata": {},
   "outputs": [
    {
     "data": {
      "text/html": [
       "\n",
       "            <style>\n",
       "                .geemap-dark {\n",
       "                    --jp-widgets-color: white;\n",
       "                    --jp-widgets-label-color: white;\n",
       "                    --jp-ui-font-color1: white;\n",
       "                    --jp-layout-color2: #454545;\n",
       "                    background-color: #383838;\n",
       "                }\n",
       "\n",
       "                .geemap-dark .jupyter-button {\n",
       "                    --jp-layout-color3: #383838;\n",
       "                }\n",
       "\n",
       "                .geemap-colab {\n",
       "                    background-color: var(--colab-primary-surface-color, white);\n",
       "                }\n",
       "\n",
       "                .geemap-colab .jupyter-button {\n",
       "                    --jp-layout-color3: var(--colab-primary-surface-color, white);\n",
       "                }\n",
       "            </style>\n",
       "            "
      ],
      "text/plain": [
       "<IPython.core.display.HTML object>"
      ]
     },
     "metadata": {},
     "output_type": "display_data"
    }
   ],
   "source": [
    "# get bands from swains\n",
    "swains_flight_bounds = swains.get(\"system:footprint\").getInfo().get(\"coordinates\")\n",
    "out = ee.Geometry.Polygon(swains_flight_bounds)"
   ]
  },
  {
   "cell_type": "code",
   "execution_count": 66,
   "metadata": {},
   "outputs": [
    {
     "data": {
      "text/html": [
       "\n",
       "            <style>\n",
       "                .geemap-dark {\n",
       "                    --jp-widgets-color: white;\n",
       "                    --jp-widgets-label-color: white;\n",
       "                    --jp-ui-font-color1: white;\n",
       "                    --jp-layout-color2: #454545;\n",
       "                    background-color: #383838;\n",
       "                }\n",
       "\n",
       "                .geemap-dark .jupyter-button {\n",
       "                    --jp-layout-color3: #383838;\n",
       "                }\n",
       "\n",
       "                .geemap-colab {\n",
       "                    background-color: var(--colab-primary-surface-color, white);\n",
       "                }\n",
       "\n",
       "                .geemap-colab .jupyter-button {\n",
       "                    --jp-layout-color3: var(--colab-primary-surface-color, white);\n",
       "                }\n",
       "            </style>\n",
       "            "
      ],
      "text/plain": [
       "<IPython.core.display.HTML object>"
      ]
     },
     "metadata": {},
     "output_type": "display_data"
    }
   ],
   "source": [
    "# create sunglint_correction cropped to swains bounds\n",
    "swains_sunglint_correction = sunglint_correction.clip(out)\n",
    "Map.addLayer(swains_sunglint_correction, sVisParams, 'top of water reflectance (swains bounds)', False)"
   ]
  },
  {
   "cell_type": "markdown",
   "metadata": {},
   "source": [
    "# PRISM data"
   ]
  },
  {
   "cell_type": "code",
   "execution_count": 67,
   "metadata": {},
   "outputs": [
    {
     "data": {
      "text/html": [
       "\n",
       "            <style>\n",
       "                .geemap-dark {\n",
       "                    --jp-widgets-color: white;\n",
       "                    --jp-widgets-label-color: white;\n",
       "                    --jp-ui-font-color1: white;\n",
       "                    --jp-layout-color2: #454545;\n",
       "                    background-color: #383838;\n",
       "                }\n",
       "\n",
       "                .geemap-dark .jupyter-button {\n",
       "                    --jp-layout-color3: #383838;\n",
       "                }\n",
       "\n",
       "                .geemap-colab {\n",
       "                    background-color: var(--colab-primary-surface-color, white);\n",
       "                }\n",
       "\n",
       "                .geemap-colab .jupyter-button {\n",
       "                    --jp-layout-color3: var(--colab-primary-surface-color, white);\n",
       "                }\n",
       "            </style>\n",
       "            "
      ],
      "text/plain": [
       "<IPython.core.display.HTML object>"
      ]
     },
     "metadata": {},
     "output_type": "display_data"
    },
    {
     "data": {
      "application/vnd.jupyter.widget-view+json": {
       "model_id": "3c80712ce04e407cbf8c1c4ff87dd7ba",
       "version_major": 2,
       "version_minor": 0
      },
      "text/plain": [
       "Map(bottom=589846.0, center=[-21.91714700361253, 152.36759659859993], controls=(WidgetControl(options=['positi…"
      ]
     },
     "execution_count": 67,
     "metadata": {},
     "output_type": "execute_result"
    }
   ],
   "source": [
    "swains = ee.Image(\"projects/reeftruth/assets/PRISM/Swains\").rename(['coral','algae','sand'])\n",
    "\n",
    "Map.addLayer(swains, prismVisParams, 'PRISM benthic classes')\n",
    "Map.centerObject(aoiGeom, 11)\n",
    "Map"
   ]
  },
  {
   "cell_type": "code",
   "execution_count": null,
   "metadata": {},
   "outputs": [],
   "source": [
    "# TODO:\n",
    "# - add depth retrieval\n",
    "# - mask depth (else may see classes which haven't been classified)\n",
    "# - add depth profile to map\n",
    "# - split into test and train sets\n",
    "# - train ee RF model\n",
    "# - export relevant imagery to drive\n",
    "# - train sklearn RF model locally (https://geemap.org/notebooks/46_local_rf_training/)\n",
    "# - transfer model to EE"
   ]
  }
 ],
 "metadata": {
  "kernelspec": {
   "display_name": "reeftruth",
   "language": "python",
   "name": "python3"
  },
  "language_info": {
   "codemirror_mode": {
    "name": "ipython",
    "version": 3
   },
   "file_extension": ".py",
   "mimetype": "text/x-python",
   "name": "python",
   "nbconvert_exporter": "python",
   "pygments_lexer": "ipython3",
   "version": "3.12.5"
  }
 },
 "nbformat": 4,
 "nbformat_minor": 2
}
