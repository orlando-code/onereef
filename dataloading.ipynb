{
 "cells": [
  {
   "cell_type": "code",
   "execution_count": 8,
   "metadata": {},
   "outputs": [
    {
     "name": "stdout",
     "output_type": "stream",
     "text": [
      "The autoreload extension is already loaded. To reload it, use:\n",
      "  %reload_ext autoreload\n"
     ]
    }
   ],
   "source": [
    "%load_ext autoreload\n",
    "%autoreload 2\n",
    "\n",
    "# import packages\n",
    "from io import BytesIO\n",
    "from urllib.request import urlopen\n",
    "from zipfile import ZipFile\n",
    "from pathlib import Path\n",
    "\n",
    "import file_ops as file_ops"
   ]
  },
  {
   "cell_type": "markdown",
   "metadata": {},
   "source": [
    "# Downloading reef presence/absence datasets\n",
    "\n",
    "This notebook functions to download records of tropical coral presence. The following datasets are currently downloadable:\n",
    "- UNEP-WCMC Global Distribution of Coral Reefs\n",
    "- Allen Coral Atlas\n",
    "- Global Reef Tracker, Reef Check\n",
    "- XL Catlin Seaview Survey\n",
    "\n",
    "N.B. due to the large quantities of data involveed, individual cells can take several minutes to run.\n",
    "Users of MacOS may have to install certificates for their Python instance in order to download files using urllib. Follow the instructions [here](https://stackoverflow.com/questions/68275857/urllib-error-urlerror-urlopen-error-ssl-certificate-verify-failed-certifica).\n",
    "\n",
    "### File structure\n",
    "\n",
    "```\n",
    "data\n",
    "├── gdcr\n",
    "├── aca\n",
    "├── rc\n",
    "└── seaview\n",
    "```\n",
    "----"
   ]
  },
  {
   "cell_type": "code",
   "execution_count": 13,
   "metadata": {},
   "outputs": [
    {
     "name": "stdout",
     "output_type": "stream",
     "text": [
      "Directory already exists: data/gdcr\n",
      "Directory already exists: data/aca\n",
      "Directory already exists: data/rc\n",
      "Directory already exists: data/seaview\n"
     ]
    }
   ],
   "source": [
    "# initialise file structure\n",
    "data_dir_fp = (Path(\"data\"))\n",
    "sub_dirs = [\"gdcr\", \"aca\", \"rc\", \"seaview\"]\n",
    "file_ops.create_directory_structure(data_dir_fp, sub_dirs)"
   ]
  },
  {
   "cell_type": "markdown",
   "metadata": {},
   "source": [
    "## [UNEP-WCMC Global Distribution of Coral Reefs](https://data.unep-wcmc.org/datasets/1)\n",
    "\n",
    "Purported to be the \"most comprehensive global dataset of warm-water coral reeefs to date\", the UNEP-WCMC Global Distribution of Coral Reefs (GDCR) is compiled from various sourcees including the Millennium Coral Reef Mapping Project (IMaRS-USF and IRD 2005, IMaRS-USF 2005) and the World Atlas of Coral Reefs (Spalding et al. 2001).\n",
    "\n",
    "*UNEP-WCMC, WorldFish Centre, WRI, TNC (2021). Global distribution of warm-water coral reefs, compiled from multiple sources including the Millennium Coral Reef Mapping Project. Version 4.1. Includes contributions from IMaRS-USF and IRD (2005), IMaRS-USF (2005) and Spalding et al. (2001). Cambridge (UK): UN Environment World Conservation Monitoring Centre. Data DOI: https://doi.org/10.34892/t2wk-5t34*\n",
    "\n",
    "Current (January 2024) data download url: https://datadownload-production.s3.us-east-1.amazonaws.com/WCMC008_CoralReefs2021_v4_1.zip\n",
    "\n",
    "| Coverage           | Spatial Resolution (m) | Actively updated? | Methodology                           | Format                                            | DOI |\n",
    "|--------------------|------------------------|---------|---------------------------------------|---------------------------------------------------|---| \n",
    "| Global             | 30                     | No     | Historic in-situ surveys, remote sensing | GeoDataFrame containing multipolygon objects stored as .shp file. Additional columns detailing species type, date of record, and survey methodology included but often not filled. | https://doi.org/10.34892/t2wk-5t34 | \n"
   ]
  },
  {
   "cell_type": "code",
   "execution_count": 11,
   "metadata": {},
   "outputs": [],
   "source": [
    "# TODO: set up file system for handling all these\n",
    "# TODO: µake sure you'ree not redownloading the same file\n",
    "zipurl_gdcr = \"https://datadownload-production.s3.us-east-1.amazonaws.com/WCMC008_CoralReefs2021_v4_1.zip\"\n",
    "\n",
    "with urlopen(zipurl_gdcr) as zipresp:\n",
    "    with ZipFile(BytesIO(zipresp.read())) as zfile:\n",
    "        zfile.extractall('data/gdcr/WCMC008_CoralReef2021_Py_v4_1.shp')"
   ]
  },
  {
   "cell_type": "markdown",
   "metadata": {},
   "source": [
    "---\n",
    "## [Seaview Survey Photo-quadrat and Image Classification Dataset](https://www.catlinseaviewsurvey.com/)\n",
    "\n",
    "The XL Catlin Seaview survey used an SVII camera system along 2km survey transect to collect geo-referenced images of the benthos. In total, 1400km of reef was surveyed. The survey is no longer active. \n",
    "\n",
    "Data is available via THREDDS hosted by the [University of Queensland](https://espace.library.uq.edu.au/view/UQ:734799)\n",
    "\n",
    "*González-Rivero, Manuel, Rodriguez-Ramirez, Alberto, Beijbom, Oscar, Dalton, Peter, Kennedy, Emma V., Neal, Benjamin P., Vercelloni, Julie, Bongaerts, Pim, Ganase, Anjani, Bryant, Dominic E.P., Brown, Kristen, Kim, Catherine, Radice, Veronica Z., Lopez-Marcano, Sebastian, Dove, Sophie, Bailhache, Christophe, Beyer, Hawthorne L., and Hoegh-Guldberg, Ove(2019). Seaview Survey Photo-quadrat and Image Classification Dataset. The University of Queensland. Data Collection.https://doi.org/10.14264/uql.2019.930*\n",
    "\n",
    "Current (January 2024) data download url: http://data.qld.edu.au/public/Q1281/tabular-data.zip\n",
    "\n",
    "| Coverage           | Spatial Resolution (m) | Actively updated? | Methodology                           | Format                                            | DOI |\n",
    "|--------------------|------------------------|---------|---------------------------------------|---------------------------------------------------|---| \n",
    "| Global, sparse | 1m | No | ML-classified underwater photo transects | xxx | https://doi.org/10.14264/uql.2019.930 | \n"
   ]
  },
  {
   "cell_type": "code",
   "execution_count": 18,
   "metadata": {},
   "outputs": [
    {
     "data": {
      "text/plain": [
       "['asdf', 'sdfgdsfgasdf']"
      ]
     },
     "execution_count": 18,
     "metadata": {},
     "output_type": "execute_result"
    }
   ],
   "source": [
    "words = [\"asdf\",\"sdfgdsfgssadf\",\"sdfgdsfgasdf\"]\n",
    "\n",
    "[word for word in words if \"asdf\" in word]"
   ]
  },
  {
   "cell_type": "code",
   "execution_count": 21,
   "metadata": {},
   "outputs": [
    {
     "name": "stdout",
     "output_type": "stream",
     "text": [
      "['tabular-data/seaviewsurvey_reefcover_atlantic.csv', 'tabular-data/seaviewsurvey_reefcover_indianocean.csv', 'tabular-data/seaviewsurvey_reefcover_pacificaustralia.csv', 'tabular-data/seaviewsurvey_reefcover_pacifichawaii.csv', 'tabular-data/seaviewsurvey_reefcover_southeastasia.csv']\n"
     ]
    }
   ],
   "source": [
    "zipurl_seaview = \"http://data.qld.edu.au/public/Q1281/tabular-data.zip\"\n",
    "seaview_dir = Path(\"data/seaview\")\n",
    "\n",
    "\n",
    "with urlopen(zipurl_seaview) as zipresp:\n",
    "    with ZipFile(BytesIO(zipresp.read())) as zfile:\n",
    "        # Find the .shp file in the ZIP archive\n",
    "        reefcover_fps = [file for file in zfile.namelist() if \"reefcover\" in file]\n",
    "\n",
    "    print(reefcover_fps)\n",
    "        # Check if there is at least one appropriate file\n",
    "        # if reefcover_fps:\n",
    "        #     # Extract the first \"reefcover\"-containing files into 'seaview' folder\n",
    "        #     zfile.extract(reefcover_fps[0], seaview_dir)\n",
    "        #     print(f\"Extracted {reefcover_fps[0]} to {seaview_dir}\")\n",
    "        # else:\n",
    "        #     print(\"No file found containing 'reefcover' in the ZIP archive.\")\n",
    "\n"
   ]
  },
  {
   "cell_type": "code",
   "execution_count": null,
   "metadata": {},
   "outputs": [],
   "source": []
  },
  {
   "cell_type": "markdown",
   "metadata": {},
   "source": [
    "---\n",
    "## TODO: [Allen Coral Atlas](https://allencoralatlas.org/)\n",
    "\n",
    "The latest – and highest-resolution – global coral map, the Allen Coral Atlas (ACA) uses a Random Forest algorithm to classify 3.7m Planet satellite imagery into various benthic classes including coral/algae, seagreass, micoalgal mats etc. While there are numerous limitations (restriction to shallows, fairly low classification accuracy), the ACA is being constantly improved, and could be updated to allow monitoring of the change of coverage.\n",
    "\n",
    "The web app which hosts the ACA requires the creation of an account and only allows manual download of individual regions, or user-defined areas.\n",
    "\n",
    "*Allen Coral Atlas (2022). Imagery, maps and monitoring of the world's tropical coral reefs. doi.org/10.5281/zenodo.3833242*\n",
    "\n",
    "| Coverage           | Spatial Resolution (m) | Actively updated? | Methodology                           | Format                                            |\n",
    "|--------------------|------------------------|---------|---------------------------------------|---------------------------------------------------|\n",
    "| Global             | 5                     | Yes     | Remote sensing | GeoDataFrame containing multipolygon objects stored as .gpkg file. |\n"
   ]
  },
  {
   "cell_type": "markdown",
   "metadata": {},
   "source": [
    "---\n",
    "## [Reef Check](https://www.reefcheck.org/)\n",
    "\n",
    "Reef Check is a non-profit organisation which trains local volunteer citizen scientist divers to collect data on reef health.\n",
    "\n",
    "Downloading the csv requires filling in a Google Form which is processed manually before the dataset is sent via email.\n",
    "\n",
    "*Reef Check Foundation. Reef Check Global Reef Dataset. data.reefcheck.org*\n",
    "\n",
    "| Coverage           | Spatial Resolution (m) | Actively updated? | Methodology                           | Format                                            | DOI |\n",
    "|--------------------|------------------------|---------|---------------------------------------|---------------------------------------------------|---| \n",
    "| Global, sparse | 100m transects, 20m intervals | Yes | Continuous, undirected in-situ surveys by citizen scientists | csv file detaiiling coordinatees (to 6dp), date, substrate type, \"total\" substrate, depth | n/a | \n"
   ]
  }
 ],
 "metadata": {
  "kernelspec": {
   "display_name": "onereef",
   "language": "python",
   "name": "python3"
  },
  "language_info": {
   "codemirror_mode": {
    "name": "ipython",
    "version": 3
   },
   "file_extension": ".py",
   "mimetype": "text/x-python",
   "name": "python",
   "nbconvert_exporter": "python",
   "pygments_lexer": "ipython3",
   "version": "3.12.1"
  }
 },
 "nbformat": 4,
 "nbformat_minor": 2
}
