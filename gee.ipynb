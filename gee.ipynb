{
 "cells": [
  {
   "cell_type": "code",
   "execution_count": 13,
   "metadata": {},
   "outputs": [
    {
     "data": {
      "text/html": [
       "\n",
       "            <style>\n",
       "                .geemap-dark {\n",
       "                    --jp-widgets-color: white;\n",
       "                    --jp-widgets-label-color: white;\n",
       "                    --jp-ui-font-color1: white;\n",
       "                    --jp-layout-color2: #454545;\n",
       "                    background-color: #383838;\n",
       "                }\n",
       "\n",
       "                .geemap-dark .jupyter-button {\n",
       "                    --jp-layout-color3: #383838;\n",
       "                }\n",
       "\n",
       "                .geemap-colab {\n",
       "                    background-color: var(--colab-primary-surface-color, white);\n",
       "                }\n",
       "\n",
       "                .geemap-colab .jupyter-button {\n",
       "                    --jp-layout-color3: var(--colab-primary-surface-color, white);\n",
       "                }\n",
       "            </style>\n",
       "            "
      ],
      "text/plain": [
       "<IPython.core.display.HTML object>"
      ]
     },
     "metadata": {},
     "output_type": "display_data"
    },
    {
     "name": "stdout",
     "output_type": "stream",
     "text": [
      "The autoreload extension is already loaded. To reload it, use:\n",
      "  %reload_ext autoreload\n"
     ]
    }
   ],
   "source": [
    "%load_ext autoreload\n",
    "%autoreload 2\n",
    "\n",
    "import ee\n",
    "import folium\n",
    "import geemap\n",
    "import gee_utils\n",
    "# Authenticate to Earth Engine\n",
    "ee.Authenticate()\n",
    "# Initialize Earth Engine instance\n",
    "ee.Initialize(project=\"reeftruth\")\n",
    "#!!! (for readme)\n",
    "# https://stackoverflow.com/questions/78374548/no-authentication-box-appears-when-authenticating-google-earth-engine-gee-pyth\n"
   ]
  },
  {
   "cell_type": "markdown",
   "metadata": {},
   "source": [
    "### Define functions"
   ]
  },
  {
   "cell_type": "code",
   "execution_count": 14,
   "metadata": {},
   "outputs": [
    {
     "data": {
      "text/html": [
       "\n",
       "            <style>\n",
       "                .geemap-dark {\n",
       "                    --jp-widgets-color: white;\n",
       "                    --jp-widgets-label-color: white;\n",
       "                    --jp-ui-font-color1: white;\n",
       "                    --jp-layout-color2: #454545;\n",
       "                    background-color: #383838;\n",
       "                }\n",
       "\n",
       "                .geemap-dark .jupyter-button {\n",
       "                    --jp-layout-color3: #383838;\n",
       "                }\n",
       "\n",
       "                .geemap-colab {\n",
       "                    background-color: var(--colab-primary-surface-color, white);\n",
       "                }\n",
       "\n",
       "                .geemap-colab .jupyter-button {\n",
       "                    --jp-layout-color3: var(--colab-primary-surface-color, white);\n",
       "                }\n",
       "            </style>\n",
       "            "
      ],
      "text/plain": [
       "<IPython.core.display.HTML object>"
      ]
     },
     "metadata": {},
     "output_type": "display_data"
    }
   ],
   "source": [
    "# Add Earth Engine drawing method to folium.\n",
    "folium.Map.add_ee_layer = gee_utils.add_ee_layer"
   ]
  },
  {
   "cell_type": "markdown",
   "metadata": {},
   "source": [
    "### Set visualisation parameters"
   ]
  },
  {
   "cell_type": "code",
   "execution_count": 27,
   "metadata": {},
   "outputs": [
    {
     "data": {
      "text/html": [
       "\n",
       "            <style>\n",
       "                .geemap-dark {\n",
       "                    --jp-widgets-color: white;\n",
       "                    --jp-widgets-label-color: white;\n",
       "                    --jp-ui-font-color1: white;\n",
       "                    --jp-layout-color2: #454545;\n",
       "                    background-color: #383838;\n",
       "                }\n",
       "\n",
       "                .geemap-dark .jupyter-button {\n",
       "                    --jp-layout-color3: #383838;\n",
       "                }\n",
       "\n",
       "                .geemap-colab {\n",
       "                    background-color: var(--colab-primary-surface-color, white);\n",
       "                }\n",
       "\n",
       "                .geemap-colab .jupyter-button {\n",
       "                    --jp-layout-color3: var(--colab-primary-surface-color, white);\n",
       "                }\n",
       "            </style>\n",
       "            "
      ],
      "text/plain": [
       "<IPython.core.display.HTML object>"
      ]
     },
     "metadata": {},
     "output_type": "display_data"
    }
   ],
   "source": [
    "paVisParams = {\n",
    "  \"palette\": [\"2ed033\"],\n",
    "  \"min\": 0.0,\n",
    "  \"max\": 1550000.0,\n",
    "  \"opacity\": 0.05\n",
    "}\n",
    "gdcrVisParams = {\n",
    "  \"palette\": [\"green\"],\n",
    "  \"min\": 0.0,\n",
    "  \"max\": 1550000.0,\n",
    "  \"opacity\": 0.8\n",
    "}\n",
    "wriVisParams = {\n",
    "  \"palette\": [\"red\"],\n",
    "  \"min\": 0.0,\n",
    "  \"max\": 1550000.0,\n",
    "  \"opacity\": 0.4\n",
    "}\n",
    "reefcheckVisParams = {\n",
    "  \"color\": \"white\",  \n",
    "  \"pointSize\": 200   \n",
    "}\n",
    "\n",
    "sentinelVisParams = {\n",
    "  \"min\": 0,\n",
    "  \"max\": 3000,\n",
    "  \"gamma\": 1.5,\n",
    "  \"bands\": [\"B4\", \"B3\", \"B2\"]\n",
    "}\n",
    "\n",
    "# centring and zoom\n",
    "lat = -20\n",
    "lon = 150\n",
    "zoom = 10"
   ]
  },
  {
   "cell_type": "markdown",
   "metadata": {},
   "source": [
    "## Add reef layers to map\n",
    "\n",
    "TODO: detail layers"
   ]
  },
  {
   "cell_type": "code",
   "execution_count": 11,
   "metadata": {},
   "outputs": [
    {
     "data": {
      "text/html": [
       "\n",
       "            <style>\n",
       "                .geemap-dark {\n",
       "                    --jp-widgets-color: white;\n",
       "                    --jp-widgets-label-color: white;\n",
       "                    --jp-ui-font-color1: white;\n",
       "                    --jp-layout-color2: #454545;\n",
       "                    background-color: #383838;\n",
       "                }\n",
       "\n",
       "                .geemap-dark .jupyter-button {\n",
       "                    --jp-layout-color3: #383838;\n",
       "                }\n",
       "\n",
       "                .geemap-colab {\n",
       "                    background-color: var(--colab-primary-surface-color, white);\n",
       "                }\n",
       "\n",
       "                .geemap-colab .jupyter-button {\n",
       "                    --jp-layout-color3: var(--colab-primary-surface-color, white);\n",
       "                }\n",
       "            </style>\n",
       "            "
      ],
      "text/plain": [
       "<IPython.core.display.HTML object>"
      ]
     },
     "metadata": {},
     "output_type": "display_data"
    }
   ],
   "source": [
    "# import geemap\n",
    "\n",
    "# # Create a map\n",
    "# map = geemap.Map(center=[lat, lon], zoom=zoom)\n",
    "\n",
    "# ### COPERNICUS\n",
    "# # Load Copernicus image collection and filter by date\n",
    "# copernicus = geemap.ee_imagecollection(\"COPERNICUS/S3/OLCI\").filterDate(\"2018-02-02\", \"2018-02-03\")\n",
    "\n",
    "# # Select bands for visualization and apply band-specific scale factors.\n",
    "# copernicus_image = copernicus.select([\"Oa08_radiance\", \"Oa06_radiance\", \"Oa04_radiance\"]) \\\n",
    "#                               .median() \\\n",
    "#                               .multiply([0.00876539, 0.0123538, 0.0115198])\n",
    "\n",
    "# map.addLayer(copernicus_image, {}, \"Copernicus background\")\n",
    "\n",
    "# ### ALLEN CORAL ATLAS\n",
    "# aca_ds = geemap.ee_image(\"ACA/reef_habitat/v2_0\")\n",
    "\n",
    "# # Example mask application\n",
    "# aca_reef_extent = aca_ds.select(\"reef_mask\").selfMask()\n",
    "# map.addLayer(aca_reef_extent, {\"palette\": [\"EEEEEE\"]}, \"ACA Global reef extent\")\n",
    "\n",
    "# # Geomorphic zonation classification\n",
    "# aca_geomorphic_zonation = aca_ds.select(\"geomorphic\").selfMask()\n",
    "# map.addLayer(aca_geomorphic_zonation, {}, \"ACA Geomorphic zonation\")\n",
    "\n",
    "# # Benthic habitat classification\n",
    "# aca_benthic_habitat = aca_ds.select(\"benthic\").selfMask()\n",
    "# map.addLayer(aca_benthic_habitat, {\"palette\": [\"FF7F50\"]}, \"ACA Benthic habitat\")\n",
    "\n",
    "# ### UNEP-WCMC World Database of Coral Reefs (GDCR)\n",
    "# unep_gdcr = geemap.ee_featurecollection(\"projects/reeftruth/assets/WCMC008_CoralReef2021_Py_v4_1\")\n",
    "# gdcr_image = geemap.ee_image().float().paint(unep_gdcr, \"GDCR\")\n",
    "# map.addLayer(gdcr_image, {}, \"UNEP-GDCR_polygons\")\n",
    "\n",
    "# ### World Resources Institute (WRI) Reefs at Risk\n",
    "# wri_500 = geemap.ee_featurecollection(\"projects/reeftruth/assets/reef_500_poly\")\n",
    "# wri_image = geemap.ee_image().float().paint(wri_500, \"WRI_500\")\n",
    "# map.addLayer(wri_image, {}, \"WRI_500_polygons\")\n",
    "\n",
    "# ### Reef Check\n",
    "# # reef_check = geemap.ee_featurecollection(\"projects/...\")\n",
    "# # map.addLayer(reef_check, {}, \"Reef Check points\")\n",
    "\n",
    "# ### World Database on Protected Areas (WDPA)\n",
    "# wdpa_ds = geemap.ee_featurecollection(\"WCMC/WDPA/current/polygons\")\n",
    "# wdpa_image = geemap.ee_image().float().paint(wdpa_ds, \"REP_AREA\")\n",
    "# map.addLayer(wdpa_image, {}, \"Protected areas\")\n",
    "\n",
    "# # Display the map\n",
    "# map\n"
   ]
  },
  {
   "cell_type": "code",
   "execution_count": 39,
   "metadata": {},
   "outputs": [
    {
     "data": {
      "text/html": [
       "\n",
       "            <style>\n",
       "                .geemap-dark {\n",
       "                    --jp-widgets-color: white;\n",
       "                    --jp-widgets-label-color: white;\n",
       "                    --jp-ui-font-color1: white;\n",
       "                    --jp-layout-color2: #454545;\n",
       "                    background-color: #383838;\n",
       "                }\n",
       "\n",
       "                .geemap-dark .jupyter-button {\n",
       "                    --jp-layout-color3: #383838;\n",
       "                }\n",
       "\n",
       "                .geemap-colab {\n",
       "                    background-color: var(--colab-primary-surface-color, white);\n",
       "                }\n",
       "\n",
       "                .geemap-colab .jupyter-button {\n",
       "                    --jp-layout-color3: var(--colab-primary-surface-color, white);\n",
       "                }\n",
       "            </style>\n",
       "            "
      ],
      "text/plain": [
       "<IPython.core.display.HTML object>"
      ]
     },
     "metadata": {},
     "output_type": "display_data"
    },
    {
     "data": {
      "application/vnd.jupyter.widget-view+json": {
       "model_id": "2f0b0efbc5d14b6f82c5395b50bc7e27",
       "version_major": 2,
       "version_minor": 0
      },
      "text/plain": [
       "Map(center=[-20, 150], controls=(WidgetControl(options=['position', 'transparent_bg'], widget=SearchDataGUI(ch…"
      ]
     },
     "execution_count": 39,
     "metadata": {},
     "output_type": "execute_result"
    }
   ],
   "source": [
    "# initialise map with bacgkround image\n",
    "reef_map = geemap.Map(center=[lat, lon], zoom=zoom)\n",
    "\n",
    "# Define the collections\n",
    "sentinel_collection = ee.ImageCollection('COPERNICUS/S2')\n",
    "cloud_collection = ee.ImageCollection('COPERNICUS/S2_CLOUD_PROBABILITY')\n",
    "\n",
    "# Filter the collections by date\n",
    "sentinel_filtered = sentinel_collection.filterDate('2022-01-01', '2023-01-01')\n",
    "cloud_filtered = cloud_collection.filterDate('2022-01-01', '2023-01-01')\n",
    "\n",
    "# Link collections on common properties\n",
    "sentinel_colour = sentinel_filtered.map(lambda image: image.addBands(\n",
    "    cloud_filtered.filter(ee.Filter.equals('system:index', image.get('system:index'))).first()\n",
    "))\n",
    "\n",
    "# Define the cloud masking function\n",
    "def cloud_mask(image):\n",
    "    cloud_prob = image.select('probability')\n",
    "    mask = cloud_prob.gt(0.6)\n",
    "    return image.updateMask(mask)\n",
    "\n",
    "# Apply the cloud masking function\n",
    "sentinel_colour_masked = sentinel_colour.map(cloud_mask)\n",
    "\n",
    "# Create the median composite\n",
    "composite = sentinel_colour_masked.median()\n",
    "\n",
    "reef_map.addLayer(composite, sentinelVisParams, 'sentinel_background');\n",
    "\n",
    "\n",
    "\n",
    "### ALLEN CORAL ATLAS\n",
    "aca_ds = ee.Image(\"ACA/reef_habitat/v2_0\") \n",
    "\n",
    "# ACA reef extent\n",
    "aca_reef_extent = aca_ds.select(\"reef_mask\").selfMask()\n",
    "reef_map.addLayer(aca_reef_extent, {\"palette\": [\"EEEEEE\"]}, \"ACA Global reef extent\")\n",
    "\n",
    "# # Geomorphic zonation classification\n",
    "# aca_geomorphic_zonation = aca_ds.select(\"geomorphic\").selfMask()\n",
    "# reef_map.addLayer(aca_geomorphic_zonation, {}, \"ACA Geomorphic zonation\")\n",
    "\n",
    "# # Benthic habitat classification\n",
    "# aca_benthic_habitat = aca_ds.select(\"benthic\").selfMask()\n",
    "# reef_map.addLayer(aca_benthic_habitat, {\"palette\": [\"FF7F50\"]}, \"ACA Benthic habitat\")\n",
    "\n",
    "### World Resources Institute (WRI) Reefs at Risk\n",
    "wri_500 = ee.FeatureCollection(\"projects/reeftruth/assets/reef_500_poly\") \n",
    "wri_image = ee.Image().float().paint(wri_500, \"WRI_500\")\n",
    "reef_map.addLayer(wri_image, wriVisParams, \"WRI_500_polygons\")\n",
    "\n",
    "\n",
    "\n",
    "### UNEP-WCMC World Database of Coral Reefs (GDCR)\n",
    "unep_gdcr = ee.FeatureCollection(\"projects/reeftruth/assets/WCMC008_CoralReef2021_Py_v4_1\") \n",
    "gdcr_image = ee.Image().float().paint(unep_gdcr, \"GDCR\")\n",
    "reef_map.addLayer(gdcr_image, gdcrVisParams, \"UNEP-GDCR_polygons\")\n",
    "\n",
    "\n",
    "reef_map"
   ]
  },
  {
   "cell_type": "code",
   "execution_count": 16,
   "metadata": {},
   "outputs": [
    {
     "data": {
      "text/html": [
       "\n",
       "            <style>\n",
       "                .geemap-dark {\n",
       "                    --jp-widgets-color: white;\n",
       "                    --jp-widgets-label-color: white;\n",
       "                    --jp-ui-font-color1: white;\n",
       "                    --jp-layout-color2: #454545;\n",
       "                    background-color: #383838;\n",
       "                }\n",
       "\n",
       "                .geemap-dark .jupyter-button {\n",
       "                    --jp-layout-color3: #383838;\n",
       "                }\n",
       "\n",
       "                .geemap-colab {\n",
       "                    background-color: var(--colab-primary-surface-color, white);\n",
       "                }\n",
       "\n",
       "                .geemap-colab .jupyter-button {\n",
       "                    --jp-layout-color3: var(--colab-primary-surface-color, white);\n",
       "                }\n",
       "            </style>\n",
       "            "
      ],
      "text/plain": [
       "<IPython.core.display.HTML object>"
      ]
     },
     "metadata": {},
     "output_type": "display_data"
    },
    {
     "data": {
      "text/html": [
       "<div style=\"width:100%;\"><div style=\"position:relative;width:100%;height:0;padding-bottom:60%;\"><span style=\"color:#565656\">Make this Notebook Trusted to load map: File -> Trust Notebook</span><iframe srcdoc=\"&lt;!DOCTYPE html&gt;\n",
       "&lt;html&gt;\n",
       "&lt;head&gt;\n",
       "    \n",
       "    &lt;meta http-equiv=&quot;content-type&quot; content=&quot;text/html; charset=UTF-8&quot; /&gt;\n",
       "    \n",
       "        &lt;script&gt;\n",
       "            L_NO_TOUCH = false;\n",
       "            L_DISABLE_3D = false;\n",
       "        &lt;/script&gt;\n",
       "    \n",
       "    &lt;style&gt;html, body {width: 100%;height: 100%;margin: 0;padding: 0;}&lt;/style&gt;\n",
       "    &lt;style&gt;#map {position:absolute;top:0;bottom:0;right:0;left:0;}&lt;/style&gt;\n",
       "    &lt;script src=&quot;https://cdn.jsdelivr.net/npm/leaflet@1.9.3/dist/leaflet.js&quot;&gt;&lt;/script&gt;\n",
       "    &lt;script src=&quot;https://code.jquery.com/jquery-3.7.1.min.js&quot;&gt;&lt;/script&gt;\n",
       "    &lt;script src=&quot;https://cdn.jsdelivr.net/npm/bootstrap@5.2.2/dist/js/bootstrap.bundle.min.js&quot;&gt;&lt;/script&gt;\n",
       "    &lt;script src=&quot;https://cdnjs.cloudflare.com/ajax/libs/Leaflet.awesome-markers/2.0.2/leaflet.awesome-markers.js&quot;&gt;&lt;/script&gt;\n",
       "    &lt;link rel=&quot;stylesheet&quot; href=&quot;https://cdn.jsdelivr.net/npm/leaflet@1.9.3/dist/leaflet.css&quot;/&gt;\n",
       "    &lt;link rel=&quot;stylesheet&quot; href=&quot;https://cdn.jsdelivr.net/npm/bootstrap@5.2.2/dist/css/bootstrap.min.css&quot;/&gt;\n",
       "    &lt;link rel=&quot;stylesheet&quot; href=&quot;https://netdna.bootstrapcdn.com/bootstrap/3.0.0/css/bootstrap.min.css&quot;/&gt;\n",
       "    &lt;link rel=&quot;stylesheet&quot; href=&quot;https://cdn.jsdelivr.net/npm/@fortawesome/fontawesome-free@6.2.0/css/all.min.css&quot;/&gt;\n",
       "    &lt;link rel=&quot;stylesheet&quot; href=&quot;https://cdnjs.cloudflare.com/ajax/libs/Leaflet.awesome-markers/2.0.2/leaflet.awesome-markers.css&quot;/&gt;\n",
       "    &lt;link rel=&quot;stylesheet&quot; href=&quot;https://cdn.jsdelivr.net/gh/python-visualization/folium/folium/templates/leaflet.awesome.rotate.min.css&quot;/&gt;\n",
       "    \n",
       "            &lt;meta name=&quot;viewport&quot; content=&quot;width=device-width,\n",
       "                initial-scale=1.0, maximum-scale=1.0, user-scalable=no&quot; /&gt;\n",
       "            &lt;style&gt;\n",
       "                #map_adfc92c2dca6b62e7a3a2ee648330278 {\n",
       "                    position: relative;\n",
       "                    width: 100.0%;\n",
       "                    height: 100.0%;\n",
       "                    left: 0.0%;\n",
       "                    top: 0.0%;\n",
       "                }\n",
       "                .leaflet-container { font-size: 1rem; }\n",
       "            &lt;/style&gt;\n",
       "        \n",
       "&lt;/head&gt;\n",
       "&lt;body&gt;\n",
       "    \n",
       "    \n",
       "            &lt;div class=&quot;folium-map&quot; id=&quot;map_adfc92c2dca6b62e7a3a2ee648330278&quot; &gt;&lt;/div&gt;\n",
       "        \n",
       "&lt;/body&gt;\n",
       "&lt;script&gt;\n",
       "    \n",
       "    \n",
       "            var map_adfc92c2dca6b62e7a3a2ee648330278 = L.map(\n",
       "                &quot;map_adfc92c2dca6b62e7a3a2ee648330278&quot;,\n",
       "                {\n",
       "                    center: [-20.0, 150.0],\n",
       "                    crs: L.CRS.EPSG3857,\n",
       "                    zoom: 10,\n",
       "                    zoomControl: true,\n",
       "                    preferCanvas: false,\n",
       "                }\n",
       "            );\n",
       "\n",
       "            \n",
       "\n",
       "        \n",
       "    \n",
       "            var tile_layer_e2fda51f9f9249fd494990c74aacc8e7 = L.tileLayer(\n",
       "                &quot;https://tile.openstreetmap.org/{z}/{x}/{y}.png&quot;,\n",
       "                {&quot;attribution&quot;: &quot;\\u0026copy; \\u003ca href=\\&quot;https://www.openstreetmap.org/copyright\\&quot;\\u003eOpenStreetMap\\u003c/a\\u003e contributors&quot;, &quot;detectRetina&quot;: false, &quot;maxNativeZoom&quot;: 19, &quot;maxZoom&quot;: 19, &quot;minZoom&quot;: 0, &quot;noWrap&quot;: false, &quot;opacity&quot;: 1, &quot;subdomains&quot;: &quot;abc&quot;, &quot;tms&quot;: false}\n",
       "            );\n",
       "        \n",
       "    \n",
       "            tile_layer_e2fda51f9f9249fd494990c74aacc8e7.addTo(map_adfc92c2dca6b62e7a3a2ee648330278);\n",
       "        \n",
       "    \n",
       "            var tile_layer_ff912c902508a8b22f3127a81a6be0a1 = L.tileLayer(\n",
       "                &quot;https://earthengine.googleapis.com/v1/projects/reeftruth/maps/7ba72875273de7d4b10fd5c1afa2e5d2-83f663768a22a49891d4ce9de2c3fff5/tiles/{z}/{x}/{y}&quot;,\n",
       "                {&quot;attribution&quot;: &quot;Map Data \\u0026copy; \\u003ca href=\\&quot;https://earthengine.google.com/\\&quot;\\u003eGoogle Earth Engine\\u003c/a\\u003e&quot;, &quot;detectRetina&quot;: false, &quot;maxNativeZoom&quot;: 18, &quot;maxZoom&quot;: 18, &quot;minZoom&quot;: 0, &quot;noWrap&quot;: false, &quot;opacity&quot;: 1, &quot;subdomains&quot;: &quot;abc&quot;, &quot;tms&quot;: false}\n",
       "            );\n",
       "        \n",
       "    \n",
       "            tile_layer_ff912c902508a8b22f3127a81a6be0a1.addTo(map_adfc92c2dca6b62e7a3a2ee648330278);\n",
       "        \n",
       "    \n",
       "            var tile_layer_12e8d3842254bbddfcacdc3312d76d40 = L.tileLayer(\n",
       "                &quot;https://earthengine.googleapis.com/v1/projects/reeftruth/maps/c2c8decd7e7c1ab57d053d1860f3fea3-e19203db60535f09effe4c6e6fa94d95/tiles/{z}/{x}/{y}&quot;,\n",
       "                {&quot;attribution&quot;: &quot;Map Data \\u0026copy; \\u003ca href=\\&quot;https://earthengine.google.com/\\&quot;\\u003eGoogle Earth Engine\\u003c/a\\u003e&quot;, &quot;detectRetina&quot;: false, &quot;maxNativeZoom&quot;: 18, &quot;maxZoom&quot;: 18, &quot;minZoom&quot;: 0, &quot;noWrap&quot;: false, &quot;opacity&quot;: 1, &quot;subdomains&quot;: &quot;abc&quot;, &quot;tms&quot;: false}\n",
       "            );\n",
       "        \n",
       "    \n",
       "            tile_layer_12e8d3842254bbddfcacdc3312d76d40.addTo(map_adfc92c2dca6b62e7a3a2ee648330278);\n",
       "        \n",
       "    \n",
       "            var tile_layer_f8ec391ff74a81d9026855519339f7c4 = L.tileLayer(\n",
       "                &quot;https://earthengine.googleapis.com/v1/projects/reeftruth/maps/a7bb273c21c978ee9af2a16450e724ba-c601f396b56741cec0a023d9944aa9f8/tiles/{z}/{x}/{y}&quot;,\n",
       "                {&quot;attribution&quot;: &quot;Map Data \\u0026copy; \\u003ca href=\\&quot;https://earthengine.google.com/\\&quot;\\u003eGoogle Earth Engine\\u003c/a\\u003e&quot;, &quot;detectRetina&quot;: false, &quot;maxNativeZoom&quot;: 18, &quot;maxZoom&quot;: 18, &quot;minZoom&quot;: 0, &quot;noWrap&quot;: false, &quot;opacity&quot;: 1, &quot;subdomains&quot;: &quot;abc&quot;, &quot;tms&quot;: false}\n",
       "            );\n",
       "        \n",
       "    \n",
       "            tile_layer_f8ec391ff74a81d9026855519339f7c4.addTo(map_adfc92c2dca6b62e7a3a2ee648330278);\n",
       "        \n",
       "    \n",
       "            var tile_layer_cae2af812d26e7fb97fdf64995851a84 = L.tileLayer(\n",
       "                &quot;https://earthengine.googleapis.com/v1/projects/reeftruth/maps/11626aa92dc062c2e94bb7b1c8b20ef9-a547d60a80435623a81d1960acd9c950/tiles/{z}/{x}/{y}&quot;,\n",
       "                {&quot;attribution&quot;: &quot;Map Data \\u0026copy; \\u003ca href=\\&quot;https://earthengine.google.com/\\&quot;\\u003eGoogle Earth Engine\\u003c/a\\u003e&quot;, &quot;detectRetina&quot;: false, &quot;maxNativeZoom&quot;: 18, &quot;maxZoom&quot;: 18, &quot;minZoom&quot;: 0, &quot;noWrap&quot;: false, &quot;opacity&quot;: 1, &quot;subdomains&quot;: &quot;abc&quot;, &quot;tms&quot;: false}\n",
       "            );\n",
       "        \n",
       "    \n",
       "            tile_layer_cae2af812d26e7fb97fdf64995851a84.addTo(map_adfc92c2dca6b62e7a3a2ee648330278);\n",
       "        \n",
       "    \n",
       "            var tile_layer_489ae1888414297c8b3b91e3e7c60351 = L.tileLayer(\n",
       "                &quot;https://earthengine.googleapis.com/v1/projects/reeftruth/maps/d43a8e2bd6b2f3b98f3d02071f3f8005-d9b2f4ba4d7eae3435b78ec48eb55f9c/tiles/{z}/{x}/{y}&quot;,\n",
       "                {&quot;attribution&quot;: &quot;Map Data \\u0026copy; \\u003ca href=\\&quot;https://earthengine.google.com/\\&quot;\\u003eGoogle Earth Engine\\u003c/a\\u003e&quot;, &quot;detectRetina&quot;: false, &quot;maxNativeZoom&quot;: 18, &quot;maxZoom&quot;: 18, &quot;minZoom&quot;: 0, &quot;noWrap&quot;: false, &quot;opacity&quot;: 1, &quot;subdomains&quot;: &quot;abc&quot;, &quot;tms&quot;: false}\n",
       "            );\n",
       "        \n",
       "    \n",
       "            tile_layer_489ae1888414297c8b3b91e3e7c60351.addTo(map_adfc92c2dca6b62e7a3a2ee648330278);\n",
       "        \n",
       "    \n",
       "            var tile_layer_bca0802f89f0f8d5163f57a19811c6ed = L.tileLayer(\n",
       "                &quot;https://earthengine.googleapis.com/v1/projects/reeftruth/maps/ab80b38a2fcc597a9465de8ededece43-1901a11c704297e908a85af74315fa16/tiles/{z}/{x}/{y}&quot;,\n",
       "                {&quot;attribution&quot;: &quot;Map Data \\u0026copy; \\u003ca href=\\&quot;https://earthengine.google.com/\\&quot;\\u003eGoogle Earth Engine\\u003c/a\\u003e&quot;, &quot;detectRetina&quot;: false, &quot;maxNativeZoom&quot;: 18, &quot;maxZoom&quot;: 18, &quot;minZoom&quot;: 0, &quot;noWrap&quot;: false, &quot;opacity&quot;: 1, &quot;subdomains&quot;: &quot;abc&quot;, &quot;tms&quot;: false}\n",
       "            );\n",
       "        \n",
       "    \n",
       "            tile_layer_bca0802f89f0f8d5163f57a19811c6ed.addTo(map_adfc92c2dca6b62e7a3a2ee648330278);\n",
       "        \n",
       "    \n",
       "            var tile_layer_9203ff7d974ea5fa279ab3adb6ea479f = L.tileLayer(\n",
       "                &quot;https://earthengine.googleapis.com/v1/projects/reeftruth/maps/146f10b295edad23dc12aa35b38fa97d-90d97e7e09c255b1958811bc4a8fba34/tiles/{z}/{x}/{y}&quot;,\n",
       "                {&quot;attribution&quot;: &quot;Map Data \\u0026copy; \\u003ca href=\\&quot;https://earthengine.google.com/\\&quot;\\u003eGoogle Earth Engine\\u003c/a\\u003e&quot;, &quot;detectRetina&quot;: false, &quot;maxNativeZoom&quot;: 18, &quot;maxZoom&quot;: 18, &quot;minZoom&quot;: 0, &quot;noWrap&quot;: false, &quot;opacity&quot;: 1, &quot;subdomains&quot;: &quot;abc&quot;, &quot;tms&quot;: false}\n",
       "            );\n",
       "        \n",
       "    \n",
       "            tile_layer_9203ff7d974ea5fa279ab3adb6ea479f.addTo(map_adfc92c2dca6b62e7a3a2ee648330278);\n",
       "        \n",
       "    \n",
       "            var layer_control_78b0da047494d6198c8a9f7c4e554381_layers = {\n",
       "                base_layers : {\n",
       "                    &quot;openstreetmap&quot; : tile_layer_e2fda51f9f9249fd494990c74aacc8e7,\n",
       "                },\n",
       "                overlays :  {\n",
       "                    &quot;copernicus background&quot; : tile_layer_ff912c902508a8b22f3127a81a6be0a1,\n",
       "                    &quot;ACA Global reef extent&quot; : tile_layer_12e8d3842254bbddfcacdc3312d76d40,\n",
       "                    &quot;ACA Geomorphic zonation&quot; : tile_layer_f8ec391ff74a81d9026855519339f7c4,\n",
       "                    &quot;ACA Benthic habitat&quot; : tile_layer_cae2af812d26e7fb97fdf64995851a84,\n",
       "                    &quot;UNEP-GDCR_polygons&quot; : tile_layer_489ae1888414297c8b3b91e3e7c60351,\n",
       "                    &quot;WRI_500_polygons&quot; : tile_layer_bca0802f89f0f8d5163f57a19811c6ed,\n",
       "                    &quot;protected areas&quot; : tile_layer_9203ff7d974ea5fa279ab3adb6ea479f,\n",
       "                },\n",
       "            };\n",
       "            let layer_control_78b0da047494d6198c8a9f7c4e554381 = L.control.layers(\n",
       "                layer_control_78b0da047494d6198c8a9f7c4e554381_layers.base_layers,\n",
       "                layer_control_78b0da047494d6198c8a9f7c4e554381_layers.overlays,\n",
       "                {&quot;autoZIndex&quot;: true, &quot;collapsed&quot;: true, &quot;position&quot;: &quot;topright&quot;}\n",
       "            ).addTo(map_adfc92c2dca6b62e7a3a2ee648330278);\n",
       "\n",
       "        \n",
       "&lt;/script&gt;\n",
       "&lt;/html&gt;\" style=\"position:absolute;width:100%;height:100%;left:0;top:0;border:none !important;\" allowfullscreen webkitallowfullscreen mozallowfullscreen></iframe></div></div>"
      ],
      "text/plain": [
       "<folium.folium.Map at 0x29deeb2c0>"
      ]
     },
     "metadata": {},
     "output_type": "display_data"
    }
   ],
   "source": [
    "\n",
    "# initialise map with bacgkround image\n",
    "reef_map = folium.Map(location=[lat, lon], zoom_start=zoom)\n",
    "\n",
    "### COPERNICUS\n",
    "# Load Copernicus image collection and filter by date\n",
    "copernicus = ee.ImageCollection(\"COPERNICUS/S3/OLCI\").filterDate(\"2018-02-02\", \"2018-02-03\")\n",
    "\n",
    "# Select bands for visualization and apply band-specific scale factors.\n",
    "copernicus_image = copernicus.select([\"Oa08_radiance\", \"Oa06_radiance\", \"Oa04_radiance\"]) \\\n",
    "                              .median() \\\n",
    "                              .multiply(ee.Image([0.00876539, 0.0123538, 0.0115198]))\n",
    "\n",
    "reef_map.add_ee_layer(copernicus_image, copernicus_vps, \"copernicus background\")\n",
    "\n",
    "### ALLEN CORAL ATLAS\n",
    "aca_ds = ee.Image(\"ACA/reef_habitat/v2_0\") \n",
    "\n",
    "# Example mask application\n",
    "aca_reef_extent = aca_ds.select(\"reef_mask\").selfMask()\n",
    "reef_map.add_ee_layer(aca_reef_extent, {\"palette\": [\"EEEEEE\"]}, \"ACA Global reef extent\")\n",
    "\n",
    "# Geomorphic zonation classification\n",
    "aca_geomorphic_zonation = aca_ds.select(\"geomorphic\").selfMask()\n",
    "reef_map.add_ee_layer(aca_geomorphic_zonation, {}, \"ACA Geomorphic zonation\")\n",
    "\n",
    "# Benthic habitat classification\n",
    "aca_benthic_habitat = aca_ds.select(\"benthic\").selfMask()\n",
    "reef_map.add_ee_layer(aca_benthic_habitat, {\"palette\": [\"FF7F50\"]}, \"ACA Benthic habitat\")\n",
    "\n",
    "\n",
    "### UNEP-WCMC World Database of Coral Reefs (GDCR)\n",
    "unep_gdcr = ee.FeatureCollection(\"projects/reeftruth/assets/WCMC008_CoralReef2021_Py_v4_1\") \n",
    "gdcr_image = ee.Image().float().paint(unep_gdcr, \"GDCR\")\n",
    "reef_map.add_ee_layer(gdcr_image, gdcrVisParams, \"UNEP-GDCR_polygons\")\n",
    "\n",
    "### World Resources Institute (WRI) Reefs at Risk\n",
    "wri_500 = ee.FeatureCollection(\"projects/reeftruth/assets/reef_500_poly\") \n",
    "wri_image = ee.Image().float().paint(wri_500, \"WRI_500\")\n",
    "reef_map.add_ee_layer(wri_image, wriVisParams, \"WRI_500_polygons\")\n",
    "\n",
    "### Reef Check\n",
    "# # reef_check = ee.FeatureCollection(\"projects/...\") \n",
    "# # reef_map.add_child(reef_check, reefcheck_vps, \"Reef Check points\")\n",
    "\n",
    "### World Database on Protected Areas (WDPA)\n",
    "wdpa_ds = ee.FeatureCollection(\"WCMC/WDPA/current/polygons\")\n",
    "wdpa_image = ee.Image().float().paint(wdpa_ds, \"REP_AREA\")\n",
    "reef_map.add_ee_layer(wdpa_image, protectedareas_vps, \"protected areas\")\n",
    "\n",
    "reef_map.add_child(folium.LayerControl())\n",
    "display(reef_map)"
   ]
  },
  {
   "cell_type": "code",
   "execution_count": 11,
   "metadata": {},
   "outputs": [
    {
     "ename": "TypeError",
     "evalue": "Filter.geometry() missing 1 required positional argument: 'geometry'",
     "output_type": "error",
     "traceback": [
      "\u001b[0;31m---------------------------------------------------------------------------\u001b[0m",
      "\u001b[0;31mTypeError\u001b[0m                                 Traceback (most recent call last)",
      "Cell \u001b[0;32mIn[11], line 1\u001b[0m\n\u001b[0;32m----> 1\u001b[0m ee\u001b[38;5;241m.\u001b[39mList([wdpa_ds\u001b[38;5;241m.\u001b[39mfilter(\u001b[43mee\u001b[49m\u001b[38;5;241;43m.\u001b[39;49m\u001b[43mFilter\u001b[49m\u001b[38;5;241;43m.\u001b[39;49m\u001b[43meq\u001b[49m\u001b[43m(\u001b[49m\u001b[38;5;124;43m\"\u001b[39;49m\u001b[38;5;124;43mgeotype\u001b[39;49m\u001b[38;5;124;43m\"\u001b[39;49m\u001b[43m,\u001b[49m\u001b[43m \u001b[49m\u001b[38;5;124;43m\"\u001b[39;49m\u001b[38;5;124;43mPolygon\u001b[39;49m\u001b[38;5;124;43m\"\u001b[39;49m\u001b[43m)\u001b[49m\u001b[38;5;241;43m.\u001b[39;49m\u001b[43mgeometry\u001b[49m\u001b[43m(\u001b[49m\u001b[43m)\u001b[49m)])\n",
      "File \u001b[0;32m~/miniforge3/envs/reeftruth/lib/python3.12/site-packages/ee/_utils.py:38\u001b[0m, in \u001b[0;36maccept_opt_prefix.<locals>.opt_fixed.<locals>.wrapper\u001b[0;34m(*args, **kwargs)\u001b[0m\n\u001b[1;32m     36\u001b[0m     \u001b[38;5;28;01mif\u001b[39;00m new_key \u001b[38;5;129;01mnot\u001b[39;00m \u001b[38;5;129;01min\u001b[39;00m kwargs:\n\u001b[1;32m     37\u001b[0m       kwargs[new_key] \u001b[38;5;241m=\u001b[39m old_key_val\n\u001b[0;32m---> 38\u001b[0m \u001b[38;5;28;01mreturn\u001b[39;00m \u001b[43mfunc\u001b[49m\u001b[43m(\u001b[49m\u001b[38;5;241;43m*\u001b[39;49m\u001b[43margs\u001b[49m\u001b[43m,\u001b[49m\u001b[43m \u001b[49m\u001b[38;5;241;43m*\u001b[39;49m\u001b[38;5;241;43m*\u001b[39;49m\u001b[43mkwargs\u001b[49m\u001b[43m)\u001b[49m\n",
      "\u001b[0;31mTypeError\u001b[0m: Filter.geometry() missing 1 required positional argument: 'geometry'"
     ]
    }
   ],
   "source": [
    "ee.List([wdpa_ds.filter(ee.Filter.eq(\"geotype\", \"Polygon\").geometry())])"
   ]
  },
  {
   "cell_type": "code",
   "execution_count": null,
   "metadata": {},
   "outputs": [],
   "source": [
    "# get basic info about a feature collection\n",
    "\n",
    "def get_info(fc):\n",
    "    \"\"\"Can't just call .getInfo() on very large feature collections. This breaks it down\"\"\"\n",
    "    print(f\"Number of elements: {fc.size().getInfo()}\")\n",
    "    print(f\"Type of first element: {fc.first().geometry().type().getInfo()}\")\n",
    "    print(f\"Approximate size of first element: {fc.first().geometry().area().divide(1000000).getInfo()} km$^2$\")\n",
    "    return fc.getInfo()\n",
    "\n",
    "def calculate_polygon_area(poly):\n",
    "    \"\"\"Calculate the area of a polygon in km^2\"\"\"\n",
    "    return poly.area().divide(1000000).getInfo()\n",
    "\n",
    "def calculate_feature_collection_area(fc):\n",
    "    \"\"\"Calculate the total area of a feature collection in km^2\"\"\"\n",
    "    for poly in fc:\n",
    "        print(calculate_polygon_area(poly))\n",
    "    # return fc.geometry().area().divide(1000000).getInfo()"
   ]
  },
  {
   "cell_type": "code",
   "execution_count": null,
   "metadata": {},
   "outputs": [],
   "source": [
    "study_region = ee.Geometry.Rectangle(130, -32, 170, 0)\n",
    "# subset fc\n",
    "gbr_wri_500 = wri_500.filterBounds(study_region)\n",
    "gbr_wdpa_ds = wdpa_ds.filterBounds(study_region)\n"
   ]
  },
  {
   "cell_type": "code",
   "execution_count": null,
   "metadata": {},
   "outputs": [],
   "source": [
    "wri_500.size().getInfo()"
   ]
  },
  {
   "cell_type": "code",
   "execution_count": null,
   "metadata": {},
   "outputs": [],
   "source": [
    "geoms = wri_500.geometry().geometries()\n",
    "features = ee.FeatureCollection(geoms.map(lambda geo: ee.Feature(geo)))"
   ]
  },
  {
   "cell_type": "code",
   "execution_count": null,
   "metadata": {},
   "outputs": [],
   "source": [
    "features.first().getInfo()"
   ]
  },
  {
   "cell_type": "code",
   "execution_count": null,
   "metadata": {},
   "outputs": [],
   "source": [
    "wri_500.first().getInfo()"
   ]
  },
  {
   "cell_type": "code",
   "execution_count": null,
   "metadata": {},
   "outputs": [],
   "source": [
    "wri_500.type().getInfo()"
   ]
  },
  {
   "cell_type": "code",
   "execution_count": null,
   "metadata": {},
   "outputs": [],
   "source": [
    "wri_500.getInfo()"
   ]
  },
  {
   "cell_type": "code",
   "execution_count": null,
   "metadata": {},
   "outputs": [],
   "source": [
    "wdpa_ds.size().getInfo()"
   ]
  },
  {
   "cell_type": "code",
   "execution_count": null,
   "metadata": {},
   "outputs": [],
   "source": [
    "gbr_wdpa_ds.size().getInfo()"
   ]
  },
  {
   "cell_type": "code",
   "execution_count": null,
   "metadata": {},
   "outputs": [],
   "source": [
    "wdpa_ds.first().geometry().area().divide(1000000).getInfo()"
   ]
  },
  {
   "cell_type": "code",
   "execution_count": null,
   "metadata": {},
   "outputs": [],
   "source": [
    "# wdpa_ds.union().geometry().getInfo()\n",
    "wri_500.first().getInfo()"
   ]
  }
 ],
 "metadata": {
  "kernelspec": {
   "display_name": "reeftruth",
   "language": "python",
   "name": "python3"
  },
  "language_info": {
   "codemirror_mode": {
    "name": "ipython",
    "version": 3
   },
   "file_extension": ".py",
   "mimetype": "text/x-python",
   "name": "python",
   "nbconvert_exporter": "python",
   "pygments_lexer": "ipython3",
   "version": "3.12.5"
  }
 },
 "nbformat": 4,
 "nbformat_minor": 2
}
